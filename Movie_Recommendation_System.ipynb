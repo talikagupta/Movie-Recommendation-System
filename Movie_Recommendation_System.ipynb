{
  "nbformat": 4,
  "nbformat_minor": 0,
  "metadata": {
    "colab": {
      "name": "Movie Recommendation System.ipynb",
      "provenance": [],
      "authorship_tag": "ABX9TyMVyg6Eh5B7DUY5kvC6kvwk",
      "include_colab_link": true
    },
    "kernelspec": {
      "name": "python3",
      "display_name": "Python 3"
    },
    "language_info": {
      "name": "python"
    }
  },
  "cells": [
    {
      "cell_type": "markdown",
      "metadata": {
        "id": "view-in-github",
        "colab_type": "text"
      },
      "source": [
        "<a href=\"https://colab.research.google.com/github/talikagupta/Movie-Recommendation-System/blob/main/Movie_Recommendation_System.ipynb\" target=\"_parent\"><img src=\"https://colab.research.google.com/assets/colab-badge.svg\" alt=\"Open In Colab\"/></a>"
      ]
    },
    {
      "cell_type": "code",
      "metadata": {
        "id": "N4iCv2fzHt2a"
      },
      "source": [
        "import pandas as pd\n",
        "import numpy as np\n",
        "import difflib #if a user makes an error in input---to give close suggestions\n",
        "from sklearn.feature_extraction.text import TfidfVectorizer #to convert textual data to numerical data\n",
        "from sklearn.metrics.pairwise import cosine_similarity"
      ],
      "execution_count": 50,
      "outputs": []
    },
    {
      "cell_type": "markdown",
      "metadata": {
        "id": "XM0RrQA_J3zZ"
      },
      "source": [
        "##Data Collection and PreProcessing"
      ]
    },
    {
      "cell_type": "code",
      "metadata": {
        "id": "CKToT2SOJ8ew"
      },
      "source": [
        "# loading the data from .csv file to pandas data frame\n",
        "movies = pd.read_csv('/content/movies.csv')"
      ],
      "execution_count": 51,
      "outputs": []
    },
    {
      "cell_type": "code",
      "metadata": {
        "colab": {
          "base_uri": "https://localhost:8080/",
          "height": 730
        },
        "id": "Rk1SJFu2KPVD",
        "outputId": "77f2f62c-2de7-4cd9-c442-c658e647f71b"
      },
      "source": [
        "movies.head()"
      ],
      "execution_count": 52,
      "outputs": [
        {
          "output_type": "execute_result",
          "data": {
            "text/html": [
              "<div>\n",
              "<style scoped>\n",
              "    .dataframe tbody tr th:only-of-type {\n",
              "        vertical-align: middle;\n",
              "    }\n",
              "\n",
              "    .dataframe tbody tr th {\n",
              "        vertical-align: top;\n",
              "    }\n",
              "\n",
              "    .dataframe thead th {\n",
              "        text-align: right;\n",
              "    }\n",
              "</style>\n",
              "<table border=\"1\" class=\"dataframe\">\n",
              "  <thead>\n",
              "    <tr style=\"text-align: right;\">\n",
              "      <th></th>\n",
              "      <th>index</th>\n",
              "      <th>budget</th>\n",
              "      <th>genres</th>\n",
              "      <th>homepage</th>\n",
              "      <th>id</th>\n",
              "      <th>keywords</th>\n",
              "      <th>original_language</th>\n",
              "      <th>original_title</th>\n",
              "      <th>overview</th>\n",
              "      <th>popularity</th>\n",
              "      <th>production_companies</th>\n",
              "      <th>production_countries</th>\n",
              "      <th>release_date</th>\n",
              "      <th>revenue</th>\n",
              "      <th>runtime</th>\n",
              "      <th>spoken_languages</th>\n",
              "      <th>status</th>\n",
              "      <th>tagline</th>\n",
              "      <th>title</th>\n",
              "      <th>vote_average</th>\n",
              "      <th>vote_count</th>\n",
              "      <th>cast</th>\n",
              "      <th>crew</th>\n",
              "      <th>director</th>\n",
              "    </tr>\n",
              "  </thead>\n",
              "  <tbody>\n",
              "    <tr>\n",
              "      <th>0</th>\n",
              "      <td>0</td>\n",
              "      <td>237000000</td>\n",
              "      <td>Action Adventure Fantasy Science Fiction</td>\n",
              "      <td>http://www.avatarmovie.com/</td>\n",
              "      <td>19995</td>\n",
              "      <td>culture clash future space war space colony so...</td>\n",
              "      <td>en</td>\n",
              "      <td>Avatar</td>\n",
              "      <td>In the 22nd century, a paraplegic Marine is di...</td>\n",
              "      <td>150.437577</td>\n",
              "      <td>[{\"name\": \"Ingenious Film Partners\", \"id\": 289...</td>\n",
              "      <td>[{\"iso_3166_1\": \"US\", \"name\": \"United States o...</td>\n",
              "      <td>2009-12-10</td>\n",
              "      <td>2787965087</td>\n",
              "      <td>162.0</td>\n",
              "      <td>[{\"iso_639_1\": \"en\", \"name\": \"English\"}, {\"iso...</td>\n",
              "      <td>Released</td>\n",
              "      <td>Enter the World of Pandora.</td>\n",
              "      <td>Avatar</td>\n",
              "      <td>7.2</td>\n",
              "      <td>11800</td>\n",
              "      <td>Sam Worthington Zoe Saldana Sigourney Weaver S...</td>\n",
              "      <td>[{'name': 'Stephen E. Rivkin', 'gender': 0, 'd...</td>\n",
              "      <td>James Cameron</td>\n",
              "    </tr>\n",
              "    <tr>\n",
              "      <th>1</th>\n",
              "      <td>1</td>\n",
              "      <td>300000000</td>\n",
              "      <td>Adventure Fantasy Action</td>\n",
              "      <td>http://disney.go.com/disneypictures/pirates/</td>\n",
              "      <td>285</td>\n",
              "      <td>ocean drug abuse exotic island east india trad...</td>\n",
              "      <td>en</td>\n",
              "      <td>Pirates of the Caribbean: At World's End</td>\n",
              "      <td>Captain Barbossa, long believed to be dead, ha...</td>\n",
              "      <td>139.082615</td>\n",
              "      <td>[{\"name\": \"Walt Disney Pictures\", \"id\": 2}, {\"...</td>\n",
              "      <td>[{\"iso_3166_1\": \"US\", \"name\": \"United States o...</td>\n",
              "      <td>2007-05-19</td>\n",
              "      <td>961000000</td>\n",
              "      <td>169.0</td>\n",
              "      <td>[{\"iso_639_1\": \"en\", \"name\": \"English\"}]</td>\n",
              "      <td>Released</td>\n",
              "      <td>At the end of the world, the adventure begins.</td>\n",
              "      <td>Pirates of the Caribbean: At World's End</td>\n",
              "      <td>6.9</td>\n",
              "      <td>4500</td>\n",
              "      <td>Johnny Depp Orlando Bloom Keira Knightley Stel...</td>\n",
              "      <td>[{'name': 'Dariusz Wolski', 'gender': 2, 'depa...</td>\n",
              "      <td>Gore Verbinski</td>\n",
              "    </tr>\n",
              "    <tr>\n",
              "      <th>2</th>\n",
              "      <td>2</td>\n",
              "      <td>245000000</td>\n",
              "      <td>Action Adventure Crime</td>\n",
              "      <td>http://www.sonypictures.com/movies/spectre/</td>\n",
              "      <td>206647</td>\n",
              "      <td>spy based on novel secret agent sequel mi6</td>\n",
              "      <td>en</td>\n",
              "      <td>Spectre</td>\n",
              "      <td>A cryptic message from Bond’s past sends him o...</td>\n",
              "      <td>107.376788</td>\n",
              "      <td>[{\"name\": \"Columbia Pictures\", \"id\": 5}, {\"nam...</td>\n",
              "      <td>[{\"iso_3166_1\": \"GB\", \"name\": \"United Kingdom\"...</td>\n",
              "      <td>2015-10-26</td>\n",
              "      <td>880674609</td>\n",
              "      <td>148.0</td>\n",
              "      <td>[{\"iso_639_1\": \"fr\", \"name\": \"Fran\\u00e7ais\"},...</td>\n",
              "      <td>Released</td>\n",
              "      <td>A Plan No One Escapes</td>\n",
              "      <td>Spectre</td>\n",
              "      <td>6.3</td>\n",
              "      <td>4466</td>\n",
              "      <td>Daniel Craig Christoph Waltz L\\u00e9a Seydoux ...</td>\n",
              "      <td>[{'name': 'Thomas Newman', 'gender': 2, 'depar...</td>\n",
              "      <td>Sam Mendes</td>\n",
              "    </tr>\n",
              "    <tr>\n",
              "      <th>3</th>\n",
              "      <td>3</td>\n",
              "      <td>250000000</td>\n",
              "      <td>Action Crime Drama Thriller</td>\n",
              "      <td>http://www.thedarkknightrises.com/</td>\n",
              "      <td>49026</td>\n",
              "      <td>dc comics crime fighter terrorist secret ident...</td>\n",
              "      <td>en</td>\n",
              "      <td>The Dark Knight Rises</td>\n",
              "      <td>Following the death of District Attorney Harve...</td>\n",
              "      <td>112.312950</td>\n",
              "      <td>[{\"name\": \"Legendary Pictures\", \"id\": 923}, {\"...</td>\n",
              "      <td>[{\"iso_3166_1\": \"US\", \"name\": \"United States o...</td>\n",
              "      <td>2012-07-16</td>\n",
              "      <td>1084939099</td>\n",
              "      <td>165.0</td>\n",
              "      <td>[{\"iso_639_1\": \"en\", \"name\": \"English\"}]</td>\n",
              "      <td>Released</td>\n",
              "      <td>The Legend Ends</td>\n",
              "      <td>The Dark Knight Rises</td>\n",
              "      <td>7.6</td>\n",
              "      <td>9106</td>\n",
              "      <td>Christian Bale Michael Caine Gary Oldman Anne ...</td>\n",
              "      <td>[{'name': 'Hans Zimmer', 'gender': 2, 'departm...</td>\n",
              "      <td>Christopher Nolan</td>\n",
              "    </tr>\n",
              "    <tr>\n",
              "      <th>4</th>\n",
              "      <td>4</td>\n",
              "      <td>260000000</td>\n",
              "      <td>Action Adventure Science Fiction</td>\n",
              "      <td>http://movies.disney.com/john-carter</td>\n",
              "      <td>49529</td>\n",
              "      <td>based on novel mars medallion space travel pri...</td>\n",
              "      <td>en</td>\n",
              "      <td>John Carter</td>\n",
              "      <td>John Carter is a war-weary, former military ca...</td>\n",
              "      <td>43.926995</td>\n",
              "      <td>[{\"name\": \"Walt Disney Pictures\", \"id\": 2}]</td>\n",
              "      <td>[{\"iso_3166_1\": \"US\", \"name\": \"United States o...</td>\n",
              "      <td>2012-03-07</td>\n",
              "      <td>284139100</td>\n",
              "      <td>132.0</td>\n",
              "      <td>[{\"iso_639_1\": \"en\", \"name\": \"English\"}]</td>\n",
              "      <td>Released</td>\n",
              "      <td>Lost in our world, found in another.</td>\n",
              "      <td>John Carter</td>\n",
              "      <td>6.1</td>\n",
              "      <td>2124</td>\n",
              "      <td>Taylor Kitsch Lynn Collins Samantha Morton Wil...</td>\n",
              "      <td>[{'name': 'Andrew Stanton', 'gender': 2, 'depa...</td>\n",
              "      <td>Andrew Stanton</td>\n",
              "    </tr>\n",
              "  </tbody>\n",
              "</table>\n",
              "</div>"
            ],
            "text/plain": [
              "   index  ...           director\n",
              "0      0  ...      James Cameron\n",
              "1      1  ...     Gore Verbinski\n",
              "2      2  ...         Sam Mendes\n",
              "3      3  ...  Christopher Nolan\n",
              "4      4  ...     Andrew Stanton\n",
              "\n",
              "[5 rows x 24 columns]"
            ]
          },
          "metadata": {},
          "execution_count": 52
        }
      ]
    },
    {
      "cell_type": "code",
      "metadata": {
        "colab": {
          "base_uri": "https://localhost:8080/"
        },
        "id": "fSdARPEHKWxe",
        "outputId": "4b4f2902-ba3f-4932-abd5-b66d25a9c2f2"
      },
      "source": [
        "movies.shape #rows x cols"
      ],
      "execution_count": 53,
      "outputs": [
        {
          "output_type": "execute_result",
          "data": {
            "text/plain": [
              "(4803, 24)"
            ]
          },
          "metadata": {},
          "execution_count": 53
        }
      ]
    },
    {
      "cell_type": "code",
      "metadata": {
        "id": "NekbesmfLNAI"
      },
      "source": [
        "#features selection \n",
        "selected_features = ['genres', 'keywords', 'tagline', 'cast', 'director']"
      ],
      "execution_count": 54,
      "outputs": []
    },
    {
      "cell_type": "code",
      "metadata": {
        "id": "fFYJfGQmThZg"
      },
      "source": [
        "#replacing all the null values with null string\n",
        "for feature in selected_features:\n",
        "  movies[feature] = movies[feature].fillna('')"
      ],
      "execution_count": 55,
      "outputs": []
    },
    {
      "cell_type": "code",
      "metadata": {
        "id": "3dxEMFnETwkg"
      },
      "source": [
        "# combining all the selected features into a single feature(string)\n",
        "combined_features = movies['genres']+' '+movies['keywords']+' '+movies['tagline']+' '+movies['cast']+' '+movies['director']\n",
        "#print(combined_features)"
      ],
      "execution_count": 56,
      "outputs": []
    },
    {
      "cell_type": "code",
      "metadata": {
        "id": "EWR2rDBXUIwz"
      },
      "source": [
        "# converting the textual/string data to feature vectors(int numerical form)\n",
        "\n",
        "#creating an instance of Tfidfvectorizer\n",
        "vectorizer = TfidfVectorizer()"
      ],
      "execution_count": 57,
      "outputs": []
    },
    {
      "cell_type": "code",
      "metadata": {
        "id": "42OiVPrnU78Z"
      },
      "source": [
        "feature_vectors = vectorizer.fit_transform(combined_features)\n",
        "#print(feature_vectors)"
      ],
      "execution_count": 58,
      "outputs": []
    },
    {
      "cell_type": "markdown",
      "metadata": {
        "id": "opHzkKwHVYB5"
      },
      "source": [
        "##cosine similarity"
      ]
    },
    {
      "cell_type": "code",
      "metadata": {
        "id": "jzm-MRMpVC_g"
      },
      "source": [
        "#getting the cosine confidence value(score) using cosine similarity\n",
        "\n",
        "similarity = cosine_similarity(feature_vectors)"
      ],
      "execution_count": 59,
      "outputs": []
    },
    {
      "cell_type": "code",
      "metadata": {
        "colab": {
          "base_uri": "https://localhost:8080/"
        },
        "id": "GEEOTo4FrRIu",
        "outputId": "23186453-e3f5-447c-c5ac-e32b8bc84646"
      },
      "source": [
        "similarity.shape"
      ],
      "execution_count": 60,
      "outputs": [
        {
          "output_type": "execute_result",
          "data": {
            "text/plain": [
              "(4803, 4803)"
            ]
          },
          "metadata": {},
          "execution_count": 60
        }
      ]
    },
    {
      "cell_type": "code",
      "metadata": {
        "id": "KJx4vN_prUpe"
      },
      "source": [
        "#print(similarity) #similarity is a 4803x4803 matrix"
      ],
      "execution_count": 61,
      "outputs": []
    },
    {
      "cell_type": "code",
      "metadata": {
        "id": "4mlvwl1MspdC"
      },
      "source": [
        "#creating a list of all the movie titles\n",
        "title_list = movies['title'].tolist()\n",
        "#print(title_list)"
      ],
      "execution_count": 62,
      "outputs": []
    },
    {
      "cell_type": "code",
      "metadata": {
        "colab": {
          "base_uri": "https://localhost:8080/"
        },
        "id": "7ug7PYjntEta",
        "outputId": "38d6f6d0-1663-4c4a-d3c2-9116a9c62bdb"
      },
      "source": [
        "#getting a movie title input from the user\n",
        "movie_title = input(\"Enter a movie name to get recommendations: \")"
      ],
      "execution_count": 63,
      "outputs": [
        {
          "name": "stdout",
          "output_type": "stream",
          "text": [
            "Enter a movie name to get recommendations: interstell\n"
          ]
        }
      ]
    },
    {
      "cell_type": "code",
      "metadata": {
        "colab": {
          "base_uri": "https://localhost:8080/"
        },
        "id": "Ryi7A_yitQVS",
        "outputId": "6467ced8-26ef-40dc-ad82-6c67328a51ba"
      },
      "source": [
        "# finding the close match for the movie name given by the user\n",
        "\n",
        "close_match_list = difflib.get_close_matches(movie_title, title_list)\n",
        "print(close_match_list)"
      ],
      "execution_count": 64,
      "outputs": [
        {
          "output_type": "stream",
          "name": "stdout",
          "text": [
            "['Interstellar', 'Cinderella', \"Winter's Tale\"]\n"
          ]
        }
      ]
    },
    {
      "cell_type": "code",
      "metadata": {
        "colab": {
          "base_uri": "https://localhost:8080/"
        },
        "id": "sRJsUmP7t0dW",
        "outputId": "39811142-1d6b-4861-d22f-af2e062b3e17"
      },
      "source": [
        "close_match = close_match_list[0]\n",
        "print(close_match)"
      ],
      "execution_count": 65,
      "outputs": [
        {
          "output_type": "stream",
          "name": "stdout",
          "text": [
            "Interstellar\n"
          ]
        }
      ]
    },
    {
      "cell_type": "code",
      "metadata": {
        "colab": {
          "base_uri": "https://localhost:8080/"
        },
        "id": "u-Ipy3aLt-K1",
        "outputId": "b9486342-9506-4cc8-fae2-8ef57424ff32"
      },
      "source": [
        "#finding the index of close_match\n",
        "index = movies[movies['title']==close_match]['index'].values[0]\n",
        "print(index)"
      ],
      "execution_count": 66,
      "outputs": [
        {
          "output_type": "stream",
          "name": "stdout",
          "text": [
            "95\n"
          ]
        }
      ]
    },
    {
      "cell_type": "code",
      "metadata": {
        "id": "E4GXJCYDupSg"
      },
      "source": [
        "#getting the row of similarity matrix[index] and putting it into a list\n",
        "similarity_list = list(enumerate(similarity[index]))\n",
        "#print(similarity_list)"
      ],
      "execution_count": 67,
      "outputs": []
    },
    {
      "cell_type": "code",
      "metadata": {
        "id": "DUm0f39Dzlz3"
      },
      "source": [
        "#sorting the similarity_list in descending order based on the similarity score\n",
        "sorted_similarity_list = sorted(similarity_list, key = lambda x:x[1], reverse=True)\n",
        "#print(sorted_similarity_list)"
      ],
      "execution_count": 68,
      "outputs": []
    },
    {
      "cell_type": "code",
      "metadata": {
        "colab": {
          "base_uri": "https://localhost:8080/"
        },
        "id": "YnzLENIQz5y0",
        "outputId": "1eb8a654-6ad5-4ded-ed0b-d1b53fbea1f9"
      },
      "source": [
        "#print the top 10 movies in the sorted_similarity_list\n",
        "\n",
        "print(\"Top 10 movies suggested for you: \\n\")\n",
        "i=1\n",
        "for movie in sorted_similarity_list:\n",
        "  idx = movie[0]\n",
        "  title_of_idx = movies[movies['index'] == idx]['title'].values[0]\n",
        "  if(i<=10):\n",
        "   print(i, '.', title_of_idx)\n",
        "   i+=1"
      ],
      "execution_count": 69,
      "outputs": [
        {
          "output_type": "stream",
          "name": "stdout",
          "text": [
            "Top 10 movies suggested for you: \n",
            "\n",
            "1 . Interstellar\n",
            "2 . The Dark Knight Rises\n",
            "3 . The Matrix\n",
            "4 . The Martian\n",
            "5 . Dear Frankie\n",
            "6 . Argo\n",
            "7 . The Matrix Revolutions\n",
            "8 . The Matrix Reloaded\n",
            "9 . The Terminator\n",
            "10 . Armageddon\n"
          ]
        }
      ]
    },
    {
      "cell_type": "markdown",
      "metadata": {
        "id": "v81als791nj6"
      },
      "source": [
        "##Movie Recommendation System"
      ]
    },
    {
      "cell_type": "code",
      "metadata": {
        "colab": {
          "base_uri": "https://localhost:8080/"
        },
        "id": "XBBWH9Hw00Yw",
        "outputId": "7ef45179-deb0-45a0-b66b-3327b152610c"
      },
      "source": [
        "movie_title = input(\"Enter a movie name to get recommendations: \")\n",
        "title_list = movies['title'].tolist()\n",
        "\n",
        "close_match_list = difflib.get_close_matches(movie_title, title_list)\n",
        "\n",
        "close_match = close_match_list[0]\n",
        "\n",
        "index = movies[movies['title'] == close_match]['index'].values[0]\n",
        "\n",
        "similarity_list = list(enumerate(similarity[index]))\n",
        "\n",
        "sorted_similarity_list = sorted(similarity_list, key = lambda x:x[1], reverse = True) \n",
        "\n",
        "print(\"Top 10 movies suggested for you: \\n\")\n",
        "i=1\n",
        "for movie in sorted_similarity_list:\n",
        "  idx = movie[0]\n",
        "  title_of_idx = movies[movies['index'] == idx]['title'].values[0]\n",
        "  if(i<=10):\n",
        "   print(i, '.', title_of_idx)\n",
        "   i+=1"
      ],
      "execution_count": 71,
      "outputs": [
        {
          "output_type": "stream",
          "name": "stdout",
          "text": [
            "Enter a movie name to get recommendations: spiderman\n",
            "Top 10 movies suggested for you: \n",
            "\n",
            "1 . Spider-Man\n",
            "2 . Spider-Man 3\n",
            "3 . Spider-Man 2\n",
            "4 . The Notebook\n",
            "5 . Seabiscuit\n",
            "6 . Clerks II\n",
            "7 . The Ice Storm\n",
            "8 . Oz: The Great and Powerful\n",
            "9 . Horrible Bosses\n",
            "10 . The Count of Monte Cristo\n"
          ]
        }
      ]
    }
  ]
}